{
 "cells": [
  {
   "cell_type": "markdown",
   "id": "25d42c0f",
   "metadata": {},
   "source": [
    "  \n",
    "\n",
    "## **Theory Section (RESTful API & Flask)**\n",
    "\n",
    "**Q1. What is a RESTful API?**  \n",
    "**Answer:**  \n",
    "A RESTful API is an Application Programming Interface that follows REST (Representational State Transfer) principles. It uses HTTP methods (GET, POST, PUT, DELETE) to perform operations on resources represented by URLs.  \n",
    "\n",
    "---\n",
    "\n",
    "**Q2. Explain the concept of API specification.**  \n",
    "**Answer:**  \n",
    "An API specification defines how clients can interact with the API, including endpoints, methods, request/response formats, and error codes. Examples include OpenAPI/Swagger documentation.  \n",
    "\n",
    "---\n",
    "\n",
    "**Q3. What is Flask, and why is it popular for building APIs?**  \n",
    "**Answer:**  \n",
    "Flask is a lightweight Python web framework. It is popular because:  \n",
    "- Easy to learn and use.  \n",
    "- Provides flexibility with minimal boilerplate code.  \n",
    "- Supports extensions like Flask-SQLAlchemy, Flask-RESTful.  \n",
    "\n",
    "---\n",
    "\n",
    "**Q4. What is routing in Flask?**  \n",
    "**Answer:**  \n",
    "Routing maps URLs to specific functions in a Flask application. It helps define how users interact with different parts of the application.  \n",
    "\n",
    "---\n",
    "\n",
    "**Q5. How do you create a simple Flask application?**  \n",
    "**Answer:**  \n",
    "A simple Flask app involves importing Flask, creating an app object, and defining routes with `@app.route()`.  \n",
    "\n",
    "---\n",
    "\n",
    "**Q6. What are HTTP methods used in RESTful APIs?**  \n",
    "**Answer:**  \n",
    "- **GET:** Retrieve data.  \n",
    "- **POST:** Create new data.  \n",
    "- **PUT:** Update existing data.  \n",
    "- **DELETE:** Remove data.  \n",
    "\n",
    "---\n",
    "\n",
    "**Q7. What is the purpose of the @app.route() decorator in Flask?**  \n",
    "**Answer:**  \n",
    "It defines a route (URL) and binds it to a function that handles requests to that route.  \n",
    "\n",
    "---\n",
    "\n",
    "**Q8. What is the difference between GET and POST HTTP methods?**  \n",
    "**Answer:**  \n",
    "- **GET:** Requests data, parameters sent via URL, idempotent.  \n",
    "- **POST:** Sends data to the server, parameters sent in the request body, used for creating resources.  \n",
    "\n",
    "---\n",
    "\n",
    "**Q9. How do you handle errors in Flask APIs?**  \n",
    "**Answer:**  \n",
    "By using `@app.errorhandler()` decorator or Flask’s built-in error handling to return custom error responses.  \n",
    "\n",
    "---\n",
    "\n",
    "**Q10. How do you connect Flask to a SQL database?**  \n",
    "**Answer:**  \n",
    "Using extensions like Flask-SQLAlchemy or directly via SQLAlchemy ORM to define models and interact with the database.  \n",
    "\n",
    "---\n",
    "\n",
    "**Q11. What is the role of Flask-SQLAlchemy?**  \n",
    "**Answer:**  \n",
    "Flask-SQLAlchemy integrates SQLAlchemy with Flask to simplify database management, ORM operations, and query execution.  \n",
    "\n",
    "---\n",
    "\n",
    "**Q12. What are Flask blueprints, and how are they useful?**  \n",
    "**Answer:**  \n",
    "Blueprints allow structuring large applications into smaller, modular components for better organization and reusability.  \n",
    "\n",
    "---\n",
    "\n",
    "**Q13. What is the purpose of Flask's request object?**  \n",
    "**Answer:**  \n",
    "The `request` object holds HTTP request data such as headers, form data, JSON body, and URL parameters.  \n",
    "\n",
    "---\n",
    "\n",
    "**Q14. How do you create a RESTful API endpoint using Flask?**  \n",
    "**Answer:**  \n",
    "By defining routes with `@app.route()` and using appropriate HTTP methods (GET, POST, etc.) inside the function.  \n",
    "\n",
    "---\n",
    "\n",
    "**Q15. What is the purpose of Flask's jsonify() function?**  \n",
    "**Answer:**  \n",
    "It converts Python dictionaries into JSON responses, which are returned to clients in APIs.  \n",
    "\n",
    "---\n",
    "\n",
    "**Q16. Explain Flask’s url_for() function.**  \n",
    "**Answer:**  \n",
    "`url_for()` dynamically generates URLs for routes, making applications flexible and reducing hard-coded URLs.  \n",
    "\n",
    "---\n",
    "\n",
    "**Q17. How does Flask handle static files (CSS, JavaScript, etc.)?**  \n",
    "**Answer:**  \n",
    "Static files are stored in the `static/` directory, and Flask serves them automatically at `/static/<filename>`.  \n",
    "\n",
    "---\n",
    "\n",
    "**Q18. What is an API specification, and how does it help in building a Flask API?**  \n",
    "**Answer:**  \n",
    "It is a blueprint describing endpoints, request/response formats, and authentication rules. It helps ensure consistency and easier client integration.  \n",
    "\n",
    "---\n",
    "\n",
    "**Q19. What are HTTP status codes, and why are they important in a Flask API?**  \n",
    "**Answer:**  \n",
    "Status codes indicate the result of HTTP requests (e.g., 200 OK, 404 Not Found, 500 Internal Server Error). They improve API communication and debugging.  \n",
    "\n",
    "---\n",
    "\n",
    "**Q20. How do you handle POST requests in Flask?**  \n",
    "**Answer:**  \n",
    "By using `request.form` or `request.json` inside a route with `methods=['POST']`.  \n",
    "\n",
    "---\n",
    "\n",
    "**Q21. How would you secure a Flask API?**  \n",
    "**Answer:**  \n",
    "- Use authentication (JWT, OAuth).  \n",
    "- Enable HTTPS.  \n",
    "- Validate inputs.  \n",
    "- Use rate limiting and API keys.  \n",
    "\n",
    "---\n",
    "\n",
    "**Q22. What is the significance of the Flask-RESTful extension?**  \n",
    "**Answer:**  \n",
    "It simplifies REST API development by providing classes for resources, request parsing, and response handling.  \n",
    "\n",
    "---\n",
    "\n",
    "**Q23. What is the role of Flask’s session object?**  \n",
    "**Answer:**  \n",
    "The `session` object stores user-specific data across requests using secure cookies.  \n"
   ]
  },
  {
   "cell_type": "markdown",
   "id": "2080f940",
   "metadata": {},
   "source": [
    "**Q1. Create a basic Flask application**"
   ]
  },
  {
   "cell_type": "code",
   "execution_count": 3,
   "id": "31ef1de1",
   "metadata": {},
   "outputs": [
    {
     "ename": "ModuleNotFoundError",
     "evalue": "No module named 'flask'",
     "output_type": "error",
     "traceback": [
      "\u001b[0;31m---------------------------------------------------------------------------\u001b[0m",
      "\u001b[0;31mModuleNotFoundError\u001b[0m                       Traceback (most recent call last)",
      "Cell \u001b[0;32mIn[3], line 1\u001b[0m\n\u001b[0;32m----> 1\u001b[0m \u001b[38;5;28;01mfrom\u001b[39;00m \u001b[38;5;21;01mflask\u001b[39;00m \u001b[38;5;28;01mimport\u001b[39;00m Flask\n\u001b[1;32m      2\u001b[0m app \u001b[38;5;241m=\u001b[39m Flask(\u001b[38;5;18m__name__\u001b[39m)\n\u001b[1;32m      4\u001b[0m \u001b[38;5;129m@app\u001b[39m\u001b[38;5;241m.\u001b[39mroute(\u001b[38;5;124m'\u001b[39m\u001b[38;5;124m/\u001b[39m\u001b[38;5;124m'\u001b[39m)\n\u001b[1;32m      5\u001b[0m \u001b[38;5;28;01mdef\u001b[39;00m \u001b[38;5;21mhome\u001b[39m():\n",
      "\u001b[0;31mModuleNotFoundError\u001b[0m: No module named 'flask'"
     ]
    }
   ],
   "source": [
    "from flask import Flask\n",
    "app = Flask(__name__)\n",
    "\n",
    "@app.route('/')\n",
    "def home():\n",
    "    return \"Hello, Flask!\"\n",
    "\n",
    "if __name__ == \"__main__\":\n",
    "    app.run(debug=True)"
   ]
  },
  {
   "cell_type": "markdown",
   "id": "59e065c5",
   "metadata": {},
   "source": [
    "**Q2. Serve static files like images or CSS in Flask**"
   ]
  },
  {
   "cell_type": "code",
   "execution_count": null,
   "id": "f66562ce",
   "metadata": {},
   "outputs": [],
   "source": [
    "# Place files in 'static/' directory and access them via:\n",
    "# http://localhost:5000/static/filename.css"
   ]
  },
  {
   "cell_type": "markdown",
   "id": "54d0c30c",
   "metadata": {},
   "source": [
    "**Q3. Define different routes with different HTTP methods in Flask**"
   ]
  },
  {
   "cell_type": "code",
   "execution_count": 1,
   "id": "fe365c18",
   "metadata": {},
   "outputs": [
    {
     "ename": "ModuleNotFoundError",
     "evalue": "No module named 'flask'",
     "output_type": "error",
     "traceback": [
      "\u001b[0;31m---------------------------------------------------------------------------\u001b[0m",
      "\u001b[0;31mModuleNotFoundError\u001b[0m                       Traceback (most recent call last)",
      "Cell \u001b[0;32mIn[1], line 1\u001b[0m\n\u001b[0;32m----> 1\u001b[0m \u001b[38;5;28;01mfrom\u001b[39;00m \u001b[38;5;21;01mflask\u001b[39;00m \u001b[38;5;28;01mimport\u001b[39;00m Flask, request\n\u001b[1;32m      2\u001b[0m app \u001b[38;5;241m=\u001b[39m Flask(\u001b[38;5;18m__name__\u001b[39m)\n\u001b[1;32m      4\u001b[0m \u001b[38;5;129m@app\u001b[39m\u001b[38;5;241m.\u001b[39mroute(\u001b[38;5;124m'\u001b[39m\u001b[38;5;124m/data\u001b[39m\u001b[38;5;124m'\u001b[39m, methods\u001b[38;5;241m=\u001b[39m[\u001b[38;5;124m'\u001b[39m\u001b[38;5;124mGET\u001b[39m\u001b[38;5;124m'\u001b[39m, \u001b[38;5;124m'\u001b[39m\u001b[38;5;124mPOST\u001b[39m\u001b[38;5;124m'\u001b[39m])\n\u001b[1;32m      5\u001b[0m \u001b[38;5;28;01mdef\u001b[39;00m \u001b[38;5;21mdata\u001b[39m():\n",
      "\u001b[0;31mModuleNotFoundError\u001b[0m: No module named 'flask'"
     ]
    }
   ],
   "source": [
    "from flask import Flask, request\n",
    "app = Flask(__name__)\n",
    "\n",
    "@app.route('/data', methods=['GET', 'POST'])\n",
    "def data():\n",
    "    if request.method == 'GET':\n",
    "        return \"GET request received\"\n",
    "    elif request.method == 'POST':\n",
    "        return \"POST request received\"\n",
    "\n",
    "if __name__ == \"__main__\":\n",
    "    app.run(debug=True)"
   ]
  },
  {
   "cell_type": "markdown",
   "id": "115a7e7e",
   "metadata": {},
   "source": [
    "**Q4. Render HTML templates in Flask**"
   ]
  },
  {
   "cell_type": "code",
   "execution_count": 2,
   "id": "1330d7b7",
   "metadata": {},
   "outputs": [
    {
     "ename": "ModuleNotFoundError",
     "evalue": "No module named 'flask'",
     "output_type": "error",
     "traceback": [
      "\u001b[0;31m---------------------------------------------------------------------------\u001b[0m",
      "\u001b[0;31mModuleNotFoundError\u001b[0m                       Traceback (most recent call last)",
      "Cell \u001b[0;32mIn[2], line 1\u001b[0m\n\u001b[0;32m----> 1\u001b[0m \u001b[38;5;28;01mfrom\u001b[39;00m \u001b[38;5;21;01mflask\u001b[39;00m \u001b[38;5;28;01mimport\u001b[39;00m Flask, render_template\n\u001b[1;32m      2\u001b[0m app \u001b[38;5;241m=\u001b[39m Flask(\u001b[38;5;18m__name__\u001b[39m)\n\u001b[1;32m      4\u001b[0m \u001b[38;5;129m@app\u001b[39m\u001b[38;5;241m.\u001b[39mroute(\u001b[38;5;124m'\u001b[39m\u001b[38;5;124m/\u001b[39m\u001b[38;5;124m'\u001b[39m)\n\u001b[1;32m      5\u001b[0m \u001b[38;5;28;01mdef\u001b[39;00m \u001b[38;5;21mhome\u001b[39m():\n",
      "\u001b[0;31mModuleNotFoundError\u001b[0m: No module named 'flask'"
     ]
    }
   ],
   "source": [
    "from flask import Flask, render_template\n",
    "app = Flask(__name__)\n",
    "\n",
    "@app.route('/')\n",
    "def home():\n",
    "    return render_template('index.html')  # index.html should be in 'templates/' folder\n",
    "\n",
    "if __name__ == \"__main__\":\n",
    "    app.run(debug=True)"
   ]
  },
  {
   "cell_type": "markdown",
   "id": "82582540",
   "metadata": {},
   "source": [
    "**Q5. Generate URLs for routes using url_for**"
   ]
  },
  {
   "cell_type": "code",
   "execution_count": null,
   "id": "370fc03e",
   "metadata": {},
   "outputs": [],
   "source": [
    "from flask import Flask, url_for\n",
    "\n",
    "app = Flask(__name__)\n",
    "\n",
    "@app.route('/user/<name>')\n",
    "def user(name):\n",
    "    return f\"Hello, {name}!\"\n",
    "\n",
    "with app.test_request_context():\n",
    "    print(url_for('user', name='John'))"
   ]
  },
  {
   "cell_type": "markdown",
   "id": "14c6a150",
   "metadata": {},
   "source": [
    "**Q6. Handle forms in Flask**"
   ]
  },
  {
   "cell_type": "code",
   "execution_count": null,
   "id": "c048b04e",
   "metadata": {},
   "outputs": [],
   "source": [
    "from flask import Flask, request, render_template\n",
    "app = Flask(__name__)\n",
    "\n",
    "@app.route('/form', methods=['GET','POST'])\n",
    "def form():\n",
    "    if request.method == 'POST':\n",
    "        name = request.form['name']\n",
    "        return f\"Hello {name}\"\n",
    "    return render_template('form.html')\n",
    "\n",
    "if __name__ == \"__main__\":\n",
    "    app.run(debug=True)"
   ]
  },
  {
   "cell_type": "markdown",
   "id": "c1ac044d",
   "metadata": {},
   "source": [
    "**Q7. Validate form data in Flask**"
   ]
  },
  {
   "cell_type": "code",
   "execution_count": null,
   "id": "0a8d5699",
   "metadata": {},
   "outputs": [],
   "source": [
    "# Validation can be done manually or using libraries like WTForms.\n",
    "from flask import Flask, request\n",
    "app = Flask(__name__)\n",
    "\n",
    "@app.route('/submit', methods=['POST'])\n",
    "def submit():\n",
    "    age = int(request.form['age'])\n",
    "    if age < 18:\n",
    "        return \"Underage!\"\n",
    "    return \"Valid age!\"\n",
    "\n",
    "if __name__ == \"__main__\":\n",
    "    app.run(debug=True)"
   ]
  },
  {
   "cell_type": "markdown",
   "id": "e665257e",
   "metadata": {},
   "source": [
    "**Q8. Manage sessions in Flask**"
   ]
  },
  {
   "cell_type": "code",
   "execution_count": null,
   "id": "9278836f",
   "metadata": {},
   "outputs": [],
   "source": [
    "from flask import Flask, session\n",
    "\n",
    "app = Flask(__name__)\n",
    "app.secret_key = \"secretkey\"\n",
    "\n",
    "@app.route('/login')\n",
    "def login():\n",
    "    session['user'] = 'John'\n",
    "    return \"User logged in\"\n",
    "\n",
    "@app.route('/logout')\n",
    "def logout():\n",
    "    session.pop('user', None)\n",
    "    return \"Logged out\"\n",
    "\n",
    "if __name__ == \"__main__\":\n",
    "    app.run(debug=True)"
   ]
  },
  {
   "cell_type": "markdown",
   "id": "6089665c",
   "metadata": {},
   "source": [
    "**Q9. Redirect to a different route in Flask**"
   ]
  },
  {
   "cell_type": "code",
   "execution_count": null,
   "id": "198753fd",
   "metadata": {},
   "outputs": [],
   "source": [
    "from flask import Flask, redirect, url_for\n",
    "app = Flask(__name__)\n",
    "\n",
    "@app.route('/')\n",
    "def home():\n",
    "    return redirect(url_for('about'))\n",
    "\n",
    "@app.route('/about')\n",
    "def about():\n",
    "    return \"This is the about page\"\n",
    "\n",
    "if __name__ == \"__main__\":\n",
    "    app.run(debug=True)"
   ]
  },
  {
   "cell_type": "markdown",
   "id": "4d4ac003",
   "metadata": {},
   "source": [
    "**Q10. Handle errors in Flask (e.g., 404)**"
   ]
  },
  {
   "cell_type": "code",
   "execution_count": null,
   "id": "1ec1195d",
   "metadata": {},
   "outputs": [],
   "source": [
    "from flask import Flask\n",
    "app = Flask(__name__)\n",
    "\n",
    "@app.errorhandler(404)\n",
    "def page_not_found(e):\n",
    "    return \"Page not found!\", 404\n",
    "\n",
    "if __name__ == \"__main__\":\n",
    "    app.run(debug=True)"
   ]
  },
  {
   "cell_type": "markdown",
   "id": "b0a1461d",
   "metadata": {},
   "source": [
    "**Q11. Structure a Flask app using Blueprints**"
   ]
  },
  {
   "cell_type": "code",
   "execution_count": null,
   "id": "4ca063fb",
   "metadata": {},
   "outputs": [],
   "source": [
    "from flask import Flask, Blueprint\n",
    "\n",
    "app = Flask(__name__)\n",
    "bp = Blueprint('bp', __name__)\n",
    "\n",
    "@bp.route('/hello')\n",
    "def hello():\n",
    "    return \"Hello from Blueprint\"\n",
    "\n",
    "app.register_blueprint(bp)\n",
    "\n",
    "if __name__ == \"__main__\":\n",
    "    app.run(debug=True)"
   ]
  },
  {
   "cell_type": "markdown",
   "id": "3eaee2a2",
   "metadata": {},
   "source": [
    "**Q12. Define a custom Jinja filter in Flask**"
   ]
  },
  {
   "cell_type": "code",
   "execution_count": null,
   "id": "a0874176",
   "metadata": {},
   "outputs": [],
   "source": [
    "from flask import Flask\n",
    "\n",
    "app = Flask(__name__)\n",
    "\n",
    "@app.template_filter('reverse')\n",
    "def reverse_filter(s):\n",
    "    return s[::-1]"
   ]
  },
  {
   "cell_type": "markdown",
   "id": "4995fc15",
   "metadata": {},
   "source": [
    "**Q13. Redirect with query parameters in Flask**"
   ]
  },
  {
   "cell_type": "code",
   "execution_count": null,
   "id": "a7725970",
   "metadata": {},
   "outputs": [],
   "source": [
    "from flask import Flask, redirect, url_for, request\n",
    "app = Flask(__name__)\n",
    "\n",
    "@app.route('/search')\n",
    "def search():\n",
    "    query = request.args.get('q', '')\n",
    "    return f\"Search results for: {query}\"\n",
    "\n",
    "@app.route('/redirect')\n",
    "def redir():\n",
    "    return redirect(url_for('search', q='Flask'))\n",
    "\n",
    "if __name__ == \"__main__\":\n",
    "    app.run(debug=True)"
   ]
  },
  {
   "cell_type": "markdown",
   "id": "c9253777",
   "metadata": {},
   "source": [
    "**Q14. Return JSON responses in Flask**"
   ]
  },
  {
   "cell_type": "code",
   "execution_count": null,
   "id": "f2fd9bbc",
   "metadata": {},
   "outputs": [],
   "source": [
    "from flask import Flask, jsonify\n",
    "app = Flask(__name__)\n",
    "\n",
    "@app.route('/data')\n",
    "def data():\n",
    "    return jsonify({'name': 'John', 'age': 30})\n",
    "\n",
    "if __name__ == \"__main__\":\n",
    "    app.run(debug=True)"
   ]
  },
  {
   "cell_type": "markdown",
   "id": "4c5a9bab",
   "metadata": {},
   "source": [
    "**Q15. Capture URL parameters in Flask**"
   ]
  },
  {
   "cell_type": "code",
   "execution_count": null,
   "id": "c57ff581",
   "metadata": {},
   "outputs": [],
   "source": [
    "from flask import Flask\n",
    "app = Flask(__name__)\n",
    "\n",
    "@app.route('/user/<username>')\n",
    "def profile(username):\n",
    "    return f\"User: {username}\"\n",
    "\n",
    "if __name__ == \"__main__\":\n",
    "    app.run(debug=True)"
   ]
  }
 ],
 "metadata": {
  "kernelspec": {
   "display_name": "Python 3 (ipykernel)",
   "language": "python",
   "name": "python3"
  },
  "language_info": {
   "codemirror_mode": {
    "name": "ipython",
    "version": 3
   },
   "file_extension": ".py",
   "mimetype": "text/x-python",
   "name": "python",
   "nbconvert_exporter": "python",
   "pygments_lexer": "ipython3",
   "version": "3.11.0"
  }
 },
 "nbformat": 4,
 "nbformat_minor": 5
}
